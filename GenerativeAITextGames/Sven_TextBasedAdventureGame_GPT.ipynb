{
  "nbformat": 4,
  "nbformat_minor": 0,
  "metadata": {
    "colab": {
      "provenance": [],
      "authorship_tag": "ABX9TyPOpqK/EUFWSXo7NLnIBwrx",
      "include_colab_link": true
    },
    "kernelspec": {
      "name": "python3",
      "display_name": "Python 3"
    },
    "language_info": {
      "name": "python"
    }
  },
  "cells": [
    {
      "cell_type": "markdown",
      "metadata": {
        "id": "view-in-github",
        "colab_type": "text"
      },
      "source": [
        "<a href=\"https://colab.research.google.com/github/kevinegan31/Data-Science-Projects/blob/main/GenerativeAITextGames/Sven_TextBasedAdventureGame_GPT.ipynb\" target=\"_parent\"><img src=\"https://colab.research.google.com/assets/colab-badge.svg\" alt=\"Open In Colab\"/></a>"
      ]
    },
    {
      "cell_type": "code",
      "source": [
        "# Import Libraries\n",
        "from transformers import GPT2LMHeadModel, GPT2Tokenizer\n",
        "import torch\n",
        "# Load Tokenizer and GPT-2 model\n",
        "tokenizer = GPT2Tokenizer.from_pretrained(\"gpt2\")\n",
        "model = GPT2LMHeadModel.from_pretrained(\"gpt2\")"
      ],
      "metadata": {
        "id": "UB0dm9kWoNTG"
      },
      "execution_count": 1,
      "outputs": []
    },
    {
      "cell_type": "code",
      "source": [
        "def generate_description(prompt):\n",
        "    input_ids = tokenizer.encode(prompt, return_tensors='pt')\n",
        "    # Create an attention mask\n",
        "    attention_mask = torch.ones(input_ids.shape)\n",
        "    # Generate text\n",
        "    output = model.generate(input_ids,\n",
        "                            attention_mask=attention_mask,\n",
        "                            pad_token_id=tokenizer.eos_token_id,\n",
        "                            max_length=100,\n",
        "                            temperature=0.2,\n",
        "                            num_return_sequences=1,\n",
        "                            no_repeat_ngram_size=2)\n",
        "    output_text = tokenizer.decode(output[0])\n",
        "    output_text = output_text[:output_text.rfind('.')+1]\n",
        "    return output_text"
      ],
      "metadata": {
        "id": "pC4Bzf7YrxMB"
      },
      "execution_count": 6,
      "outputs": []
    },
    {
      "cell_type": "code",
      "source": [
        "# Game states -- each location Sven must cross to bring football home\n",
        "states = {\n",
        "    \"start\": {\n",
        "        \"description\": generate_description(\"Sven Goran Eriksson is starting his journey in Sweden, preparing to leave his homeland and face the many challenges that await him across Europe. Sven hopes to coach England and win a major trophy as the manager of England's national Football team.\"),\n",
        "        \"options\": {\n",
        "            \"yes\": \"norway\",\n",
        "            \"no\" : \"I guess football won't be coming home after all.\"\n",
        "        }\n",
        "    },\n",
        "    \"norway\": {\n",
        "        \"description\": generate_description(\"Sven has reached Norway, a land of fierce Vikings and chilling cold. He is now considering whether to fight the Norwegian Vikings or retreat. What does he decide?\"),\n",
        "        \"options\": {\n",
        "            \"fight\": \"denmark\",\n",
        "            \"retreat\": \"sweden\",\n",
        "            \"wait\": \"wait_norway\"\n",
        "        }\n",
        "    },\n",
        "    \"wait_norway\": {\n",
        "    \"description\": generate_description(\"Sven decides to wait in Norway for a day, taking in the beautiful landscape. However, the Vikings are prepared for battle. Sven must make a decision, should he fight or flee?\"),\n",
        "    \"options\": {\n",
        "        \"fight\": \"denmark\",  # Sven can continue where he left off\n",
        "        \"retreat\": \"sweden\",\n",
        "        \"concede\": \"Surprisingly, the Norwegians have stopped football from coming home.\"\n",
        "    }\n",
        "    },\n",
        "    \"denmark\": {\n",
        "        \"description\": generate_description(\"You have reached Denmark. You must gather your resources for your journey ahead. Are you ready to continue or do you want to enjoy the culture?\"),\n",
        "        \"options\": {\n",
        "          \"continue\": \"germany\",\n",
        "          \"stop\": \"norway\",\n",
        "          \"enjoy the culture\": \"wait_denmark\"\n",
        "      }\n",
        "    },\n",
        "    \"wait_denmark\": {\n",
        "    \"description\": generate_description(\"Sven decides to wait in Denmark for a day, enjoying the beautiful culture. Now he must make his decision, should he continue or return to Norway?\"),\n",
        "    \"options\": {\n",
        "        \"yes\": \"norway\",  # Sven can continue where he left off\n",
        "        \"no\": \"The delightful culture of Denmark has stopped football from coming home.\",\n",
        "    }\n",
        "    },\n",
        "    \"germany\": {\n",
        "        \"description\": generate_description(\"You have arrived in Germany. It's time to discuss philosophy in German beer halls. Are you ready to participate in the discussion?\"),\n",
        "        \"options\": {\n",
        "            \"participate\": \"france\",\n",
        "            \"not ready\": \"denmark\",\n",
        "        }\n",
        "    },\n",
        "    \"france\": {\n",
        "        \"description\": generate_description(\"Great! You've impressed the Germans, and have arrived in France. You must prove to the French that you know your wines. Are you ready?\"),\n",
        "        \"options\": {\n",
        "            \"ready\": \"england\",\n",
        "            \"not ready\": \"germany\",\n",
        "        }\n",
        "    },\n",
        "    \"england\": {\n",
        "        \"description\": generate_description(\"Quite the connossiuer you are! You have finally made it to England. Congratulations on bringing the football home!\"),\n",
        "        \"options\": {}\n",
        "    },\n",
        "    \"end\": {\n",
        "        \"description\": \"The journey has ended. Football will not be coming home. Better luck next time!\",\n",
        "        \"options\": {}\n",
        "    },\n",
        "}\n"
      ],
      "metadata": {
        "id": "I0xc5X8PoPse"
      },
      "execution_count": 12,
      "outputs": []
    },
    {
      "cell_type": "code",
      "source": [
        "# Starting state\n",
        "state = \"start\"\n",
        "# Main game loop\n",
        "while True:\n",
        "    # Print the description of the current state\n",
        "    print(states[state][\"description\"])\n",
        "\n",
        "    # Check if the current state has any options\n",
        "    if states[state][\"options\"]:\n",
        "        # Print the options for the user\n",
        "        options = list(states[state][\"options\"].keys())\n",
        "        print(\"Options: \" + \", \".join(f'\"{option}\"' for option in options))\n",
        "\n",
        "        # Ask the player for their choice\n",
        "        choice = input(\"What do you choose to do? \")\n",
        "\n",
        "        # Change the state based on the player's choice\n",
        "        if choice in states[state][\"options\"]:\n",
        "            state = states[state][\"options\"][choice]\n",
        "        else:\n",
        "            print(\"I don't understand that choice. Please try again.\")\n",
        "    else:\n",
        "        # If the current state has no options, the game is over\n",
        "        break\n"
      ],
      "metadata": {
        "colab": {
          "base_uri": "https://localhost:8080/"
        },
        "id": "nMLpQLR9oeS6",
        "outputId": "0c8e42db-2d7c-4a4d-8755-ccb89f060cf6"
      },
      "execution_count": 13,
      "outputs": [
        {
          "output_type": "stream",
          "name": "stdout",
          "text": [
            "Sven Goran Eriksson is starting his journey in Sweden, preparing to leave his homeland and face the many challenges that await him across Europe. Sven hopes to coach England and win a major trophy as the manager of England's national Football team.\n",
            "\n",
            "\"I'm very happy to be here,\" he said. \"I've been here for a long time and I'm happy for the team and the fans.\n",
            "Options: \"yes\", \"no\"\n",
            "What do you choose to do? yes\n",
            "Sven has reached Norway, a land of fierce Vikings and chilling cold. He is now considering whether to fight the Norwegian Vikings or retreat. What does he decide?\n",
            "\n",
            "\"I'm not going to go to war,\" he says. \"I don't want to be a part of it. I'm just going out there and fighting. It's not my place to do that. If I want a fight, I'll fight.\n",
            "Options: \"fight\", \"retreat\", \"wait\"\n",
            "What do you choose to do? fight\n",
            "You have reached Denmark. You must gather your resources for your journey ahead. Are you ready to continue or do you want to enjoy the culture?\n",
            "\n",
            "The Danish people are very proud of their country. They are proud to have a strong and prosperous economy. The Danish government has been very supportive of the Danish economy and has made it very clear that it is not a country that is going to be able to compete with other countries.\n",
            "...\n",
            "Options: \"continue\", \"stop\", \"enjoy the culture\"\n",
            "What do you choose to do? continue\n",
            "You have arrived in Germany. It's time to discuss philosophy in German beer halls. Are you ready to participate in the discussion?\n",
            "\n",
            "The answer is yes. We are ready for discussion.\n",
            "...\n",
            " (The German word for \"beer hall\" is \"biergarten\" or \"bar\")\n",
            ", and the German term for the \"German beer hall\", is the one that is used in most German breweries.\n",
            "Options: \"participate\", \"not ready\"\n",
            "What do you choose to do? participate\n",
            "Great! You've impressed the Germans, and have arrived in France. You must prove to the French that you know your wines. Are you ready?\n",
            "\n",
            "I am ready.\n",
            "...\n",
            " (to the German)\n",
            ",\n",
            "-\n",
            ":\n",
            "\"I have been waiting for you for a long time. I have not been able to find you. But I am sure you will find me. And I will tell you what I know. The Germans have sent me a letter.\n",
            "Options: \"ready\", \"not ready\"\n",
            "What do you choose to do? ready\n",
            "Quite the connossiuer you are! You have finally made it to England. Congratulations on bringing the football home!\n",
            "\n",
            "\"I am delighted to be back in England, and I am very happy to have been able to play for the first time in my career. I have enjoyed my time here, but I want to thank the fans for their support and encouragement.\n",
            " \"I have had a great time at the club, I will be looking forward to playing for them again.\n"
          ]
        }
      ]
    },
    {
      "cell_type": "code",
      "source": [],
      "metadata": {
        "id": "OBrc3sHlo38G"
      },
      "execution_count": null,
      "outputs": []
    }
  ]
}